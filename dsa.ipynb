{
 "cells": [
  {
   "cell_type": "code",
   "execution_count": 1,
   "metadata": {},
   "outputs": [
    {
     "name": "stdout",
     "output_type": "stream",
     "text": [
      "DFS Traversal:\n",
      "0 1 3 4 2 "
     ]
    }
   ],
   "source": [
    "\"\"\"\n",
    "Depth-First Search (DFS)\n",
    "\"\"\"\n",
    "adj_list = {\n",
    "    0: [1, 2],\n",
    "    1: [0, 3, 4],\n",
    "    2: [0],\n",
    "    3: [1],\n",
    "    4: [1]\n",
    "}\n",
    "\n",
    "def dfs(node, adj_list, visited):\n",
    "    print(node, end=\" \")  # Print the current node\n",
    "    visited.add(node)\n",
    "    for neighbor in adj_list[node]:\n",
    "        if neighbor not in visited:\n",
    "            dfs(neighbor, adj_list, visited)\n",
    "\n",
    "visited = set()\n",
    "print(\"DFS Traversal:\")\n",
    "dfs(0, adj_list, visited)\n"
   ]
  },
  {
   "cell_type": "code",
   "execution_count": 2,
   "metadata": {},
   "outputs": [
    {
     "name": "stdout",
     "output_type": "stream",
     "text": [
      "BFS Traversal:\n",
      "0 1 2 3 4 "
     ]
    }
   ],
   "source": [
    "\"\"\"\n",
    "Breadth-First Search (BFS)\n",
    "\"\"\"\n",
    "adj_list = {\n",
    "    0: [1, 2],\n",
    "    1: [0, 3, 4],\n",
    "    2: [0],\n",
    "    3: [1],\n",
    "    4: [1]\n",
    "}\n",
    "\n",
    "from collections import deque\n",
    "\n",
    "def bfs(start, adj_list):\n",
    "    queue = deque([start])  # Initialize the queue with the start node\n",
    "    visited = set()\n",
    "    visited.add(start)\n",
    "\n",
    "    print(\"BFS Traversal:\")\n",
    "    while queue:\n",
    "        node = queue.popleft()\n",
    "        print(node, end=\" \")  # Print the current node\n",
    "        for neighbor in adj_list[node]:\n",
    "            if neighbor not in visited:\n",
    "                visited.add(neighbor)\n",
    "                queue.append(neighbor)\n",
    "\n",
    "bfs(0, adj_list)"
   ]
  }
 ],
 "metadata": {
  "kernelspec": {
   "display_name": "3.9.7",
   "language": "python",
   "name": "python3"
  },
  "language_info": {
   "codemirror_mode": {
    "name": "ipython",
    "version": 3
   },
   "file_extension": ".py",
   "mimetype": "text/x-python",
   "name": "python",
   "nbconvert_exporter": "python",
   "pygments_lexer": "ipython3",
   "version": "3.9.7"
  }
 },
 "nbformat": 4,
 "nbformat_minor": 2
}
